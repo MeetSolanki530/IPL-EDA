{
 "cells": [
  {
   "cell_type": "markdown",
   "id": "1c74a3ca",
   "metadata": {},
   "source": [
    "# Performing Exploratory Data Analysis on IPL dataset.\n"
   ]
  },
  {
   "cell_type": "markdown",
   "id": "92ac5ff5",
   "metadata": {},
   "source": [
    "# Importing Relavent Libraries"
   ]
  },
  {
   "cell_type": "code",
   "execution_count": 1,
   "id": "3374e3c7",
   "metadata": {},
   "outputs": [],
   "source": [
    "import pandas as pd\n",
    "import numpy as np\n",
    "import seaborn as sns\n",
    "import matplotlib.pyplot as plt\n",
    "%matplotlib inline"
   ]
  },
  {
   "cell_type": "code",
   "execution_count": 2,
   "id": "6b7aede2",
   "metadata": {},
   "outputs": [],
   "source": [
    "import warnings\n",
    "warnings.filterwarnings('ignore')"
   ]
  },
  {
   "cell_type": "markdown",
   "id": "4cca2c59",
   "metadata": {},
   "source": [
    "# Importing IPL dataset"
   ]
  },
  {
   "cell_type": "code",
   "execution_count": 3,
   "id": "e025af84",
   "metadata": {},
   "outputs": [
    {
     "data": {
      "text/html": [
       "<div>\n",
       "<style scoped>\n",
       "    .dataframe tbody tr th:only-of-type {\n",
       "        vertical-align: middle;\n",
       "    }\n",
       "\n",
       "    .dataframe tbody tr th {\n",
       "        vertical-align: top;\n",
       "    }\n",
       "\n",
       "    .dataframe thead th {\n",
       "        text-align: right;\n",
       "    }\n",
       "</style>\n",
       "<table border=\"1\" class=\"dataframe\">\n",
       "  <thead>\n",
       "    <tr style=\"text-align: right;\">\n",
       "      <th></th>\n",
       "      <th>id</th>\n",
       "      <th>season</th>\n",
       "      <th>city</th>\n",
       "      <th>date</th>\n",
       "      <th>team1</th>\n",
       "      <th>team2</th>\n",
       "      <th>toss_winner</th>\n",
       "      <th>toss_decision</th>\n",
       "      <th>result</th>\n",
       "      <th>dl_applied</th>\n",
       "      <th>winner</th>\n",
       "      <th>win_by_runs</th>\n",
       "      <th>win_by_wickets</th>\n",
       "      <th>dismissal_kind</th>\n",
       "      <th>player_of_match</th>\n",
       "      <th>umpire1</th>\n",
       "      <th>umpire2</th>\n",
       "      <th>umpire3</th>\n",
       "      <th>venue</th>\n",
       "    </tr>\n",
       "  </thead>\n",
       "  <tbody>\n",
       "    <tr>\n",
       "      <th>0</th>\n",
       "      <td>1.0</td>\n",
       "      <td>2017.0</td>\n",
       "      <td>Hyderabad</td>\n",
       "      <td>05-04-2017</td>\n",
       "      <td>Sunrisers Hyderabad</td>\n",
       "      <td>Royal Challengers Bangalore</td>\n",
       "      <td>Royal Challengers Bangalore</td>\n",
       "      <td>field</td>\n",
       "      <td>normal</td>\n",
       "      <td>0.0</td>\n",
       "      <td>Sunrisers Hyderabad</td>\n",
       "      <td>35.0</td>\n",
       "      <td>0.0</td>\n",
       "      <td>NaN</td>\n",
       "      <td>Yuvraj Singh</td>\n",
       "      <td>AY Dandekar</td>\n",
       "      <td>NJ Llong</td>\n",
       "      <td>NaN</td>\n",
       "      <td>Rajiv Gandhi International Stadium, Uppal</td>\n",
       "    </tr>\n",
       "    <tr>\n",
       "      <th>1</th>\n",
       "      <td>2.0</td>\n",
       "      <td>2017.0</td>\n",
       "      <td>Pune</td>\n",
       "      <td>06-04-2017</td>\n",
       "      <td>Mumbai Indians</td>\n",
       "      <td>Rising Pune Supergiant</td>\n",
       "      <td>Rising Pune Supergiant</td>\n",
       "      <td>field</td>\n",
       "      <td>normal</td>\n",
       "      <td>0.0</td>\n",
       "      <td>Rising Pune Supergiant</td>\n",
       "      <td>0.0</td>\n",
       "      <td>7.0</td>\n",
       "      <td>NaN</td>\n",
       "      <td>SPD Smith</td>\n",
       "      <td>A Nand Kishore</td>\n",
       "      <td>S Ravi</td>\n",
       "      <td>NaN</td>\n",
       "      <td>Maharashtra Cricket Association Stadium</td>\n",
       "    </tr>\n",
       "    <tr>\n",
       "      <th>2</th>\n",
       "      <td>3.0</td>\n",
       "      <td>2017.0</td>\n",
       "      <td>Rajkot</td>\n",
       "      <td>07-04-2017</td>\n",
       "      <td>Gujarat Lions</td>\n",
       "      <td>Kolkata Knight Riders</td>\n",
       "      <td>Kolkata Knight Riders</td>\n",
       "      <td>field</td>\n",
       "      <td>normal</td>\n",
       "      <td>0.0</td>\n",
       "      <td>Kolkata Knight Riders</td>\n",
       "      <td>0.0</td>\n",
       "      <td>10.0</td>\n",
       "      <td>NaN</td>\n",
       "      <td>CA Lynn</td>\n",
       "      <td>Nitin Menon</td>\n",
       "      <td>CK Nandan</td>\n",
       "      <td>NaN</td>\n",
       "      <td>Saurashtra Cricket Association Stadium</td>\n",
       "    </tr>\n",
       "    <tr>\n",
       "      <th>3</th>\n",
       "      <td>4.0</td>\n",
       "      <td>2017.0</td>\n",
       "      <td>Indore</td>\n",
       "      <td>08-04-2017</td>\n",
       "      <td>Rising Pune Supergiant</td>\n",
       "      <td>Kings XI Punjab</td>\n",
       "      <td>Kings XI Punjab</td>\n",
       "      <td>field</td>\n",
       "      <td>normal</td>\n",
       "      <td>0.0</td>\n",
       "      <td>Kings XI Punjab</td>\n",
       "      <td>0.0</td>\n",
       "      <td>6.0</td>\n",
       "      <td>NaN</td>\n",
       "      <td>GJ Maxwell</td>\n",
       "      <td>AK Chaudhary</td>\n",
       "      <td>C Shamshuddin</td>\n",
       "      <td>NaN</td>\n",
       "      <td>Holkar Cricket Stadium</td>\n",
       "    </tr>\n",
       "    <tr>\n",
       "      <th>4</th>\n",
       "      <td>5.0</td>\n",
       "      <td>2017.0</td>\n",
       "      <td>Bangalore</td>\n",
       "      <td>08-04-2017</td>\n",
       "      <td>Royal Challengers Bangalore</td>\n",
       "      <td>Delhi Daredevils</td>\n",
       "      <td>Royal Challengers Bangalore</td>\n",
       "      <td>bat</td>\n",
       "      <td>normal</td>\n",
       "      <td>0.0</td>\n",
       "      <td>Royal Challengers Bangalore</td>\n",
       "      <td>15.0</td>\n",
       "      <td>0.0</td>\n",
       "      <td>NaN</td>\n",
       "      <td>KM Jadhav</td>\n",
       "      <td>NaN</td>\n",
       "      <td>NaN</td>\n",
       "      <td>NaN</td>\n",
       "      <td>M Chinnaswamy Stadium</td>\n",
       "    </tr>\n",
       "  </tbody>\n",
       "</table>\n",
       "</div>"
      ],
      "text/plain": [
       "    id  season       city        date                        team1  \\\n",
       "0  1.0  2017.0  Hyderabad  05-04-2017          Sunrisers Hyderabad   \n",
       "1  2.0  2017.0       Pune  06-04-2017               Mumbai Indians   \n",
       "2  3.0  2017.0     Rajkot  07-04-2017                Gujarat Lions   \n",
       "3  4.0  2017.0     Indore  08-04-2017       Rising Pune Supergiant   \n",
       "4  5.0  2017.0  Bangalore  08-04-2017  Royal Challengers Bangalore   \n",
       "\n",
       "                         team2                  toss_winner toss_decision  \\\n",
       "0  Royal Challengers Bangalore  Royal Challengers Bangalore         field   \n",
       "1       Rising Pune Supergiant       Rising Pune Supergiant         field   \n",
       "2        Kolkata Knight Riders        Kolkata Knight Riders         field   \n",
       "3              Kings XI Punjab              Kings XI Punjab         field   \n",
       "4             Delhi Daredevils  Royal Challengers Bangalore           bat   \n",
       "\n",
       "   result  dl_applied                       winner  win_by_runs  \\\n",
       "0  normal         0.0          Sunrisers Hyderabad         35.0   \n",
       "1  normal         0.0       Rising Pune Supergiant          0.0   \n",
       "2  normal         0.0        Kolkata Knight Riders          0.0   \n",
       "3  normal         0.0              Kings XI Punjab          0.0   \n",
       "4  normal         0.0  Royal Challengers Bangalore         15.0   \n",
       "\n",
       "   win_by_wickets dismissal_kind player_of_match         umpire1  \\\n",
       "0             0.0            NaN    Yuvraj Singh     AY Dandekar   \n",
       "1             7.0            NaN       SPD Smith  A Nand Kishore   \n",
       "2            10.0            NaN         CA Lynn     Nitin Menon   \n",
       "3             6.0            NaN      GJ Maxwell    AK Chaudhary   \n",
       "4             0.0            NaN       KM Jadhav             NaN   \n",
       "\n",
       "         umpire2  umpire3                                      venue  \n",
       "0       NJ Llong      NaN  Rajiv Gandhi International Stadium, Uppal  \n",
       "1         S Ravi      NaN    Maharashtra Cricket Association Stadium  \n",
       "2      CK Nandan      NaN     Saurashtra Cricket Association Stadium  \n",
       "3  C Shamshuddin      NaN                     Holkar Cricket Stadium  \n",
       "4            NaN      NaN                      M Chinnaswamy Stadium  "
      ]
     },
     "execution_count": 3,
     "metadata": {},
     "output_type": "execute_result"
    }
   ],
   "source": [
    "data = pd.read_csv(\"matches.csv\")\n",
    "data.head()"
   ]
  },
  {
   "cell_type": "markdown",
   "id": "2a5bb48e",
   "metadata": {},
   "source": [
    "# How big is the dataset ? (Rows and columns)"
   ]
  },
  {
   "cell_type": "code",
   "execution_count": 4,
   "id": "55d26783",
   "metadata": {},
   "outputs": [
    {
     "data": {
      "text/plain": [
       "(179078, 19)"
      ]
     },
     "execution_count": 4,
     "metadata": {},
     "output_type": "execute_result"
    }
   ],
   "source": [
    "data.shape"
   ]
  },
  {
   "cell_type": "code",
   "execution_count": 5,
   "id": "026d07a7",
   "metadata": {},
   "outputs": [
    {
     "data": {
      "text/plain": [
       "<bound method DataFrame.info of          id  season       city        date                        team1  \\\n",
       "0       1.0  2017.0  Hyderabad  05-04-2017          Sunrisers Hyderabad   \n",
       "1       2.0  2017.0       Pune  06-04-2017               Mumbai Indians   \n",
       "2       3.0  2017.0     Rajkot  07-04-2017                Gujarat Lions   \n",
       "3       4.0  2017.0     Indore  08-04-2017       Rising Pune Supergiant   \n",
       "4       5.0  2017.0  Bangalore  08-04-2017  Royal Challengers Bangalore   \n",
       "...     ...     ...        ...         ...                          ...   \n",
       "179073  NaN     NaN        NaN         NaN                          NaN   \n",
       "179074  NaN     NaN        NaN         NaN                          NaN   \n",
       "179075  NaN     NaN        NaN         NaN                          NaN   \n",
       "179076  NaN     NaN        NaN         NaN                          NaN   \n",
       "179077  NaN     NaN        NaN         NaN                          NaN   \n",
       "\n",
       "                              team2                  toss_winner  \\\n",
       "0       Royal Challengers Bangalore  Royal Challengers Bangalore   \n",
       "1            Rising Pune Supergiant       Rising Pune Supergiant   \n",
       "2             Kolkata Knight Riders        Kolkata Knight Riders   \n",
       "3                   Kings XI Punjab              Kings XI Punjab   \n",
       "4                  Delhi Daredevils  Royal Challengers Bangalore   \n",
       "...                             ...                          ...   \n",
       "179073                          NaN                          NaN   \n",
       "179074                          NaN                          NaN   \n",
       "179075                          NaN                          NaN   \n",
       "179076                          NaN                          NaN   \n",
       "179077                          NaN                          NaN   \n",
       "\n",
       "       toss_decision  result  dl_applied                       winner  \\\n",
       "0              field  normal         0.0          Sunrisers Hyderabad   \n",
       "1              field  normal         0.0       Rising Pune Supergiant   \n",
       "2              field  normal         0.0        Kolkata Knight Riders   \n",
       "3              field  normal         0.0              Kings XI Punjab   \n",
       "4                bat  normal         0.0  Royal Challengers Bangalore   \n",
       "...              ...     ...         ...                          ...   \n",
       "179073           NaN     NaN         NaN                          NaN   \n",
       "179074           NaN     NaN         NaN                          NaN   \n",
       "179075           NaN     NaN         NaN                          NaN   \n",
       "179076           NaN     NaN         NaN                          NaN   \n",
       "179077           NaN     NaN         NaN                          NaN   \n",
       "\n",
       "        win_by_runs  win_by_wickets dismissal_kind player_of_match  \\\n",
       "0              35.0             0.0            NaN    Yuvraj Singh   \n",
       "1               0.0             7.0            NaN       SPD Smith   \n",
       "2               0.0            10.0            NaN         CA Lynn   \n",
       "3               0.0             6.0            NaN      GJ Maxwell   \n",
       "4              15.0             0.0            NaN       KM Jadhav   \n",
       "...             ...             ...            ...             ...   \n",
       "179073          NaN             NaN            NaN             NaN   \n",
       "179074          NaN             NaN            NaN             NaN   \n",
       "179075          NaN             NaN        run out             NaN   \n",
       "179076          NaN             NaN            NaN             NaN   \n",
       "179077          NaN             NaN            lbw             NaN   \n",
       "\n",
       "               umpire1        umpire2  umpire3  \\\n",
       "0          AY Dandekar       NJ Llong      NaN   \n",
       "1       A Nand Kishore         S Ravi      NaN   \n",
       "2          Nitin Menon      CK Nandan      NaN   \n",
       "3         AK Chaudhary  C Shamshuddin      NaN   \n",
       "4                  NaN            NaN      NaN   \n",
       "...                ...            ...      ...   \n",
       "179073             NaN            NaN      NaN   \n",
       "179074             NaN            NaN      NaN   \n",
       "179075             NaN            NaN      NaN   \n",
       "179076             NaN            NaN      NaN   \n",
       "179077             NaN            NaN      NaN   \n",
       "\n",
       "                                            venue  \n",
       "0       Rajiv Gandhi International Stadium, Uppal  \n",
       "1         Maharashtra Cricket Association Stadium  \n",
       "2          Saurashtra Cricket Association Stadium  \n",
       "3                          Holkar Cricket Stadium  \n",
       "4                           M Chinnaswamy Stadium  \n",
       "...                                           ...  \n",
       "179073                                        NaN  \n",
       "179074                                        NaN  \n",
       "179075                                        NaN  \n",
       "179076                                        NaN  \n",
       "179077                                        NaN  \n",
       "\n",
       "[179078 rows x 19 columns]>"
      ]
     },
     "execution_count": 5,
     "metadata": {},
     "output_type": "execute_result"
    }
   ],
   "source": [
    "data.info"
   ]
  },
  {
   "cell_type": "code",
   "execution_count": null,
   "id": "081164b3",
   "metadata": {},
   "outputs": [],
   "source": []
  },
  {
   "cell_type": "markdown",
   "id": "93228449",
   "metadata": {},
   "source": [
    "# Name of all the columns (labels)"
   ]
  },
  {
   "cell_type": "code",
   "execution_count": 6,
   "id": "bc3dac51",
   "metadata": {},
   "outputs": [
    {
     "data": {
      "text/plain": [
       "Index(['id', 'season', 'city', 'date', 'team1', 'team2', 'toss_winner',\n",
       "       'toss_decision', 'result', 'dl_applied', 'winner', 'win_by_runs',\n",
       "       'win_by_wickets', 'dismissal_kind', 'player_of_match', 'umpire1',\n",
       "       'umpire2', 'umpire3', 'venue'],\n",
       "      dtype='object')"
      ]
     },
     "execution_count": 6,
     "metadata": {},
     "output_type": "execute_result"
    }
   ],
   "source": [
    "data.columns"
   ]
  },
  {
   "cell_type": "code",
   "execution_count": null,
   "id": "40a19ce1",
   "metadata": {},
   "outputs": [],
   "source": []
  },
  {
   "cell_type": "markdown",
   "id": "75ad2c99",
   "metadata": {},
   "source": [
    "# Data Pre-processing: Finding out NaN values"
   ]
  },
  {
   "cell_type": "code",
   "execution_count": 7,
   "id": "b0df963b",
   "metadata": {},
   "outputs": [
    {
     "data": {
      "text/plain": [
       "id                 True\n",
       "season             True\n",
       "city               True\n",
       "date               True\n",
       "team1              True\n",
       "team2              True\n",
       "toss_winner        True\n",
       "toss_decision      True\n",
       "result             True\n",
       "dl_applied         True\n",
       "winner             True\n",
       "win_by_runs        True\n",
       "win_by_wickets     True\n",
       "dismissal_kind     True\n",
       "player_of_match    True\n",
       "umpire1            True\n",
       "umpire2            True\n",
       "umpire3            True\n",
       "venue              True\n",
       "dtype: bool"
      ]
     },
     "execution_count": 7,
     "metadata": {},
     "output_type": "execute_result"
    }
   ],
   "source": [
    "data.isna().any()"
   ]
  },
  {
   "cell_type": "markdown",
   "id": "2d62328b",
   "metadata": {},
   "source": [
    "# Statistical Description of dataset"
   ]
  },
  {
   "cell_type": "code",
   "execution_count": 8,
   "id": "c5c4d60d",
   "metadata": {},
   "outputs": [
    {
     "data": {
      "text/html": [
       "<div>\n",
       "<style scoped>\n",
       "    .dataframe tbody tr th:only-of-type {\n",
       "        vertical-align: middle;\n",
       "    }\n",
       "\n",
       "    .dataframe tbody tr th {\n",
       "        vertical-align: top;\n",
       "    }\n",
       "\n",
       "    .dataframe thead th {\n",
       "        text-align: right;\n",
       "    }\n",
       "</style>\n",
       "<table border=\"1\" class=\"dataframe\">\n",
       "  <thead>\n",
       "    <tr style=\"text-align: right;\">\n",
       "      <th></th>\n",
       "      <th>id</th>\n",
       "      <th>season</th>\n",
       "      <th>dl_applied</th>\n",
       "      <th>win_by_runs</th>\n",
       "      <th>win_by_wickets</th>\n",
       "      <th>umpire3</th>\n",
       "    </tr>\n",
       "  </thead>\n",
       "  <tbody>\n",
       "    <tr>\n",
       "      <th>count</th>\n",
       "      <td>636.000000</td>\n",
       "      <td>636.000000</td>\n",
       "      <td>636.000000</td>\n",
       "      <td>636.000000</td>\n",
       "      <td>636.000000</td>\n",
       "      <td>0.0</td>\n",
       "    </tr>\n",
       "    <tr>\n",
       "      <th>mean</th>\n",
       "      <td>318.500000</td>\n",
       "      <td>2012.490566</td>\n",
       "      <td>0.025157</td>\n",
       "      <td>13.682390</td>\n",
       "      <td>3.372642</td>\n",
       "      <td>NaN</td>\n",
       "    </tr>\n",
       "    <tr>\n",
       "      <th>std</th>\n",
       "      <td>183.741666</td>\n",
       "      <td>2.773026</td>\n",
       "      <td>0.156726</td>\n",
       "      <td>23.908877</td>\n",
       "      <td>3.420338</td>\n",
       "      <td>NaN</td>\n",
       "    </tr>\n",
       "    <tr>\n",
       "      <th>min</th>\n",
       "      <td>1.000000</td>\n",
       "      <td>2008.000000</td>\n",
       "      <td>0.000000</td>\n",
       "      <td>0.000000</td>\n",
       "      <td>0.000000</td>\n",
       "      <td>NaN</td>\n",
       "    </tr>\n",
       "    <tr>\n",
       "      <th>25%</th>\n",
       "      <td>159.750000</td>\n",
       "      <td>2010.000000</td>\n",
       "      <td>0.000000</td>\n",
       "      <td>0.000000</td>\n",
       "      <td>0.000000</td>\n",
       "      <td>NaN</td>\n",
       "    </tr>\n",
       "    <tr>\n",
       "      <th>50%</th>\n",
       "      <td>318.500000</td>\n",
       "      <td>2012.000000</td>\n",
       "      <td>0.000000</td>\n",
       "      <td>0.000000</td>\n",
       "      <td>4.000000</td>\n",
       "      <td>NaN</td>\n",
       "    </tr>\n",
       "    <tr>\n",
       "      <th>75%</th>\n",
       "      <td>477.250000</td>\n",
       "      <td>2015.000000</td>\n",
       "      <td>0.000000</td>\n",
       "      <td>20.000000</td>\n",
       "      <td>7.000000</td>\n",
       "      <td>NaN</td>\n",
       "    </tr>\n",
       "    <tr>\n",
       "      <th>max</th>\n",
       "      <td>636.000000</td>\n",
       "      <td>2017.000000</td>\n",
       "      <td>1.000000</td>\n",
       "      <td>146.000000</td>\n",
       "      <td>10.000000</td>\n",
       "      <td>NaN</td>\n",
       "    </tr>\n",
       "  </tbody>\n",
       "</table>\n",
       "</div>"
      ],
      "text/plain": [
       "               id       season  dl_applied  win_by_runs  win_by_wickets  \\\n",
       "count  636.000000   636.000000  636.000000   636.000000      636.000000   \n",
       "mean   318.500000  2012.490566    0.025157    13.682390        3.372642   \n",
       "std    183.741666     2.773026    0.156726    23.908877        3.420338   \n",
       "min      1.000000  2008.000000    0.000000     0.000000        0.000000   \n",
       "25%    159.750000  2010.000000    0.000000     0.000000        0.000000   \n",
       "50%    318.500000  2012.000000    0.000000     0.000000        4.000000   \n",
       "75%    477.250000  2015.000000    0.000000    20.000000        7.000000   \n",
       "max    636.000000  2017.000000    1.000000   146.000000       10.000000   \n",
       "\n",
       "       umpire3  \n",
       "count      0.0  \n",
       "mean       NaN  \n",
       "std        NaN  \n",
       "min        NaN  \n",
       "25%        NaN  \n",
       "50%        NaN  \n",
       "75%        NaN  \n",
       "max        NaN  "
      ]
     },
     "execution_count": 8,
     "metadata": {},
     "output_type": "execute_result"
    }
   ],
   "source": [
    "data.describe()"
   ]
  },
  {
   "cell_type": "markdown",
   "id": "0ae861dc",
   "metadata": {},
   "source": [
    "# How many matches(in total) were played according to the dataset?"
   ]
  },
  {
   "cell_type": "code",
   "execution_count": 9,
   "id": "6a303ee8",
   "metadata": {},
   "outputs": [
    {
     "data": {
      "text/plain": [
       "636"
      ]
     },
     "execution_count": 9,
     "metadata": {},
     "output_type": "execute_result"
    }
   ],
   "source": [
    "data['id'].count()"
   ]
  },
  {
   "cell_type": "code",
   "execution_count": null,
   "id": "514232a6",
   "metadata": {},
   "outputs": [],
   "source": []
  },
  {
   "cell_type": "markdown",
   "id": "112d13c1",
   "metadata": {},
   "source": [
    "# How many IPL seasons are we using to analyse?"
   ]
  },
  {
   "cell_type": "code",
   "execution_count": 10,
   "id": "13af08c1",
   "metadata": {},
   "outputs": [
    {
     "data": {
      "text/plain": [
       "array([2017., 2008., 2009., 2010., 2011., 2012., 2013., 2014., 2015.,\n",
       "       2016.,   nan])"
      ]
     },
     "execution_count": 10,
     "metadata": {},
     "output_type": "execute_result"
    }
   ],
   "source": [
    "data['season'].unique()"
   ]
  },
  {
   "cell_type": "code",
   "execution_count": null,
   "id": "43331d5f",
   "metadata": {},
   "outputs": [],
   "source": []
  },
  {
   "cell_type": "markdown",
   "id": "d6bd5c9d",
   "metadata": {},
   "source": [
    "# Which IPL team won by scoring the maximum runs?"
   ]
  },
  {
   "cell_type": "code",
   "execution_count": 11,
   "id": "73b197fb",
   "metadata": {},
   "outputs": [
    {
     "data": {
      "text/plain": [
       "id                             44.0\n",
       "season                       2017.0\n",
       "city                          Delhi\n",
       "date                     06-05-2017\n",
       "team1                Mumbai Indians\n",
       "team2              Delhi Daredevils\n",
       "toss_winner        Delhi Daredevils\n",
       "toss_decision                 field\n",
       "result                       normal\n",
       "dl_applied                      0.0\n",
       "winner               Mumbai Indians\n",
       "win_by_runs                   146.0\n",
       "win_by_wickets                  0.0\n",
       "dismissal_kind                  NaN\n",
       "player_of_match         LMP Simmons\n",
       "umpire1                 Nitin Menon\n",
       "umpire2                   CK Nandan\n",
       "umpire3                         NaN\n",
       "venue              Feroz Shah Kotla\n",
       "Name: 43, dtype: object"
      ]
     },
     "execution_count": 11,
     "metadata": {},
     "output_type": "execute_result"
    }
   ],
   "source": [
    "data.iloc[data['win_by_runs'].idxmax()]"
   ]
  },
  {
   "cell_type": "markdown",
   "id": "476da129",
   "metadata": {},
   "source": [
    "# Which IPL team won by consuming the maximum wickets?"
   ]
  },
  {
   "cell_type": "code",
   "execution_count": 12,
   "id": "b16267e6",
   "metadata": {
    "scrolled": true
   },
   "outputs": [
    {
     "data": {
      "text/plain": [
       "id                                                    3.0\n",
       "season                                             2017.0\n",
       "city                                               Rajkot\n",
       "date                                           07-04-2017\n",
       "team1                                       Gujarat Lions\n",
       "team2                               Kolkata Knight Riders\n",
       "toss_winner                         Kolkata Knight Riders\n",
       "toss_decision                                       field\n",
       "result                                             normal\n",
       "dl_applied                                            0.0\n",
       "winner                              Kolkata Knight Riders\n",
       "win_by_runs                                           0.0\n",
       "win_by_wickets                                       10.0\n",
       "dismissal_kind                                        NaN\n",
       "player_of_match                                   CA Lynn\n",
       "umpire1                                       Nitin Menon\n",
       "umpire2                                         CK Nandan\n",
       "umpire3                                               NaN\n",
       "venue              Saurashtra Cricket Association Stadium\n",
       "Name: 2, dtype: object"
      ]
     },
     "execution_count": 12,
     "metadata": {},
     "output_type": "execute_result"
    }
   ],
   "source": [
    "data.iloc[data['win_by_wickets'].idxmax()]"
   ]
  },
  {
   "cell_type": "markdown",
   "id": "a52df157",
   "metadata": {},
   "source": [
    "# Which IPL team won by scoring the minimum wickets?"
   ]
  },
  {
   "cell_type": "code",
   "execution_count": 13,
   "id": "5ca6a56c",
   "metadata": {},
   "outputs": [
    {
     "data": {
      "text/plain": [
       "id                                                       1.0\n",
       "season                                                2017.0\n",
       "city                                               Hyderabad\n",
       "date                                              05-04-2017\n",
       "team1                                    Sunrisers Hyderabad\n",
       "team2                            Royal Challengers Bangalore\n",
       "toss_winner                      Royal Challengers Bangalore\n",
       "toss_decision                                          field\n",
       "result                                                normal\n",
       "dl_applied                                               0.0\n",
       "winner                                   Sunrisers Hyderabad\n",
       "win_by_runs                                             35.0\n",
       "win_by_wickets                                           0.0\n",
       "dismissal_kind                                           NaN\n",
       "player_of_match                                 Yuvraj Singh\n",
       "umpire1                                          AY Dandekar\n",
       "umpire2                                             NJ Llong\n",
       "umpire3                                                  NaN\n",
       "venue              Rajiv Gandhi International Stadium, Uppal\n",
       "Name: 0, dtype: object"
      ]
     },
     "execution_count": 13,
     "metadata": {},
     "output_type": "execute_result"
    }
   ],
   "source": [
    "data.iloc[data['win_by_wickets'].idxmin()]"
   ]
  },
  {
   "cell_type": "code",
   "execution_count": null,
   "id": "9034f6e4",
   "metadata": {},
   "outputs": [],
   "source": []
  },
  {
   "cell_type": "markdown",
   "id": "d8518875",
   "metadata": {},
   "source": [
    "# Which season consisted of the highest number of matches ever played?"
   ]
  },
  {
   "cell_type": "code",
   "execution_count": 14,
   "id": "09512330",
   "metadata": {},
   "outputs": [
    {
     "data": {
      "image/png": "[encoded data removed]",
      "text/plain": [
       "<Figure size 3000x700 with 1 Axes>"
      ]
     },
     "metadata": {},
     "output_type": "display_data"
    }
   ],
   "source": [
    "fig_dims = (30,7)\n",
    "fig,ax = plt.subplots(figsize=fig_dims)\n",
    "sns.countplot(x='season',ax=ax,data=data)\n",
    "plt.show()"
   ]
  },
  {
   "cell_type": "code",
   "execution_count": null,
   "id": "f0b692c7",
   "metadata": {},
   "outputs": [],
   "source": []
  },
  {
   "cell_type": "markdown",
   "id": "80ce9799",
   "metadata": {},
   "source": [
    "# Which is the most successful IPL team with all the data hand?"
   ]
  },
  {
   "cell_type": "code",
   "execution_count": 15,
   "id": "bb5d263c",
   "metadata": {},
   "outputs": [
    {
     "data": {
      "text/plain": [
       "<Axes: xlabel='winner'>"
      ]
     },
     "execution_count": 15,
     "metadata": {},
     "output_type": "execute_result"
    },
    {
     "data": {
      "image/png": "[encoded data removed]",
      "text/plain": [
       "<Figure size 640x480 with 1 Axes>"
      ]
     },
     "metadata": {},
     "output_type": "display_data"
    }
   ],
   "source": [
    "data1 = data.winner.value_counts()\n",
    "sns.barplot(y=data1.index,x=data1)"
   ]
  },
  {
   "cell_type": "code",
   "execution_count": null,
   "id": "336c9d9f",
   "metadata": {},
   "outputs": [],
   "source": []
  },
  {
   "cell_type": "code",
   "execution_count": null,
   "id": "aa170588",
   "metadata": {},
   "outputs": [],
   "source": []
  },
  {
   "cell_type": "markdown",
   "id": "1bfbfbca",
   "metadata": {},
   "source": [
    "# What is the probability of winning a match if the toss was won? "
   ]
  },
  {
   "cell_type": "code",
   "execution_count": 16,
   "id": "9ed5000d",
   "metadata": {},
   "outputs": [
    {
     "data": {
      "text/plain": [
       "False    178753\n",
       "True        325\n",
       "dtype: int64"
      ]
     },
     "execution_count": 16,
     "metadata": {},
     "output_type": "execute_result"
    }
   ],
   "source": [
    "probability_of_win = data['toss_winner'] == data['winner']\n",
    "probability_of_win.groupby(probability_of_win).size()\n"
   ]
  },
  {
   "cell_type": "code",
   "execution_count": 17,
   "id": "3d81b42b",
   "metadata": {},
   "outputs": [
    {
     "data": {
      "text/plain": [
       "<Axes: ylabel='count'>"
      ]
     },
     "execution_count": 17,
     "metadata": {},
     "output_type": "execute_result"
    },
    {
     "data": {
      "image/png": "[encoded data removed]",
      "text/plain": [
       "<Figure size 640x480 with 1 Axes>"
      ]
     },
     "metadata": {},
     "output_type": "display_data"
    }
   ],
   "source": [
    "\n",
    "probability_of_win_str = probability_of_win.map({True: 'True', False: 'False'})\n",
    "\n",
    "sns.countplot(x=probability_of_win_str, data=data)\n"
   ]
  },
  {
   "cell_type": "code",
   "execution_count": null,
   "id": "6b5912da",
   "metadata": {},
   "outputs": [],
   "source": []
  },
  {
   "cell_type": "markdown",
   "id": "37bda54b",
   "metadata": {},
   "source": [
    "# Setting a higher row width"
   ]
  },
  {
   "cell_type": "code",
   "execution_count": 18,
   "id": "70fcb479",
   "metadata": {},
   "outputs": [
    {
     "name": "stdout",
     "output_type": "stream",
     "text": [
      "display.max_colwidth : int or None\n",
      "    The maximum width in characters of a column in the repr of\n",
      "    a pandas data structure. When the column overflows, a \"...\"\n",
      "    placeholder is embedded in the output. A 'None' value means unlimited.\n",
      "    [default: 50] [currently: 400]\n"
     ]
    }
   ],
   "source": [
    "pd.set_option('display.max_rows', 99999)\n",
    "pd.set_option('max_colwidth',400)\n",
    "pd.describe_option('max_colwidth')"
   ]
  },
  {
   "cell_type": "code",
   "execution_count": null,
   "id": "ef9a5a77",
   "metadata": {},
   "outputs": [],
   "source": []
  },
  {
   "cell_type": "markdown",
   "id": "9b1c8636",
   "metadata": {},
   "source": [
    "# Highest wins by teams per season"
   ]
  },
  {
   "cell_type": "code",
   "execution_count": 19,
   "id": "3adb0ec8",
   "metadata": {},
   "outputs": [
    {
     "data": {
      "text/plain": [
       "season  winner                     \n",
       "2008.0  Rajasthan Royals               13\n",
       "        Kings XI Punjab                10\n",
       "        Chennai Super Kings             9\n",
       "        Delhi Daredevils                7\n",
       "        Mumbai Indians                  7\n",
       "        Kolkata Knight Riders           6\n",
       "        Royal Challengers Bangalore     4\n",
       "        Deccan Chargers                 2\n",
       "2009.0  Delhi Daredevils               10\n",
       "        Deccan Chargers                 9\n",
       "        Royal Challengers Bangalore     9\n",
       "        Chennai Super Kings             8\n",
       "        Kings XI Punjab                 7\n",
       "        Rajasthan Royals                6\n",
       "        Mumbai Indians                  5\n",
       "        Kolkata Knight Riders           3\n",
       "2010.0  Mumbai Indians                 11\n",
       "        Chennai Super Kings             9\n",
       "        Deccan Chargers                 8\n",
       "        Royal Challengers Bangalore     8\n",
       "        Delhi Daredevils                7\n",
       "        Kolkata Knight Riders           7\n",
       "        Rajasthan Royals                6\n",
       "        Kings XI Punjab                 4\n",
       "2011.0  Chennai Super Kings            11\n",
       "        Mumbai Indians                 10\n",
       "        Royal Challengers Bangalore    10\n",
       "        Kolkata Knight Riders           8\n",
       "        Kings XI Punjab                 7\n",
       "        Deccan Chargers                 6\n",
       "        Kochi Tuskers Kerala            6\n",
       "        Rajasthan Royals                6\n",
       "        Delhi Daredevils                4\n",
       "        Pune Warriors                   4\n",
       "2012.0  Kolkata Knight Riders          12\n",
       "        Delhi Daredevils               11\n",
       "        Chennai Super Kings            10\n",
       "        Mumbai Indians                 10\n",
       "        Kings XI Punjab                 8\n",
       "        Royal Challengers Bangalore     8\n",
       "        Rajasthan Royals                7\n",
       "        Deccan Chargers                 4\n",
       "        Pune Warriors                   4\n",
       "2013.0  Mumbai Indians                 13\n",
       "        Chennai Super Kings            12\n",
       "        Rajasthan Royals               11\n",
       "        Sunrisers Hyderabad            10\n",
       "        Royal Challengers Bangalore     9\n",
       "        Kings XI Punjab                 8\n",
       "        Kolkata Knight Riders           6\n",
       "        Pune Warriors                   4\n",
       "        Delhi Daredevils                3\n",
       "2014.0  Kings XI Punjab                12\n",
       "        Kolkata Knight Riders          11\n",
       "        Chennai Super Kings            10\n",
       "        Mumbai Indians                  7\n",
       "        Rajasthan Royals                7\n",
       "        Sunrisers Hyderabad             6\n",
       "        Royal Challengers Bangalore     5\n",
       "        Delhi Daredevils                2\n",
       "2015.0  Chennai Super Kings            10\n",
       "        Mumbai Indians                 10\n",
       "        Royal Challengers Bangalore     8\n",
       "        Kolkata Knight Riders           7\n",
       "        Rajasthan Royals                7\n",
       "        Sunrisers Hyderabad             7\n",
       "        Delhi Daredevils                5\n",
       "        Kings XI Punjab                 3\n",
       "2016.0  Sunrisers Hyderabad            11\n",
       "        Gujarat Lions                   9\n",
       "        Royal Challengers Bangalore     9\n",
       "        Kolkata Knight Riders           8\n",
       "        Delhi Daredevils                7\n",
       "        Mumbai Indians                  7\n",
       "        Rising Pune Supergiants         5\n",
       "        Kings XI Punjab                 4\n",
       "2017.0  Mumbai Indians                 12\n",
       "        Rising Pune Supergiant         10\n",
       "        Kolkata Knight Riders           9\n",
       "        Sunrisers Hyderabad             8\n",
       "        Kings XI Punjab                 7\n",
       "        Delhi Daredevils                6\n",
       "        Gujarat Lions                   4\n",
       "        Royal Challengers Bangalore     3\n",
       "Name: winner, dtype: int64"
      ]
     },
     "execution_count": 19,
     "metadata": {},
     "output_type": "execute_result"
    }
   ],
   "source": [
    "data.groupby('season')['winner'].value_counts()"
   ]
  },
  {
   "cell_type": "code",
   "execution_count": 20,
   "id": "9a0678c4",
   "metadata": {},
   "outputs": [
    {
     "data": {
      "text/plain": [
       "field    363\n",
       "bat      273\n",
       "Name: toss_decision, dtype: int64"
      ]
     },
     "execution_count": 20,
     "metadata": {},
     "output_type": "execute_result"
    }
   ],
   "source": [
    "data['toss_decision'].value_counts()"
   ]
  },
  {
   "cell_type": "code",
   "execution_count": null,
   "id": "361e4b55",
   "metadata": {},
   "outputs": [],
   "source": []
  },
  {
   "cell_type": "markdown",
   "id": "4151f130",
   "metadata": {},
   "source": [
    "# Man Of The Match - Highest to lowest (in won matches)"
   ]
  },
  {
   "cell_type": "code",
   "execution_count": 21,
   "id": "495a1b15",
   "metadata": {},
   "outputs": [
    {
     "data": {
      "text/plain": [
       "CH Gayle             18\n",
       "YK Pathan            16\n",
       "DA Warner            15\n",
       "AB de Villiers       15\n",
       "RG Sharma            14\n",
       "SK Raina             14\n",
       "MS Dhoni             13\n",
       "G Gambhir            13\n",
       "AM Rahane            12\n",
       "MEK Hussey           12\n",
       "V Sehwag             11\n",
       "DR Smith             11\n",
       "V Kohli              11\n",
       "SR Watson            10\n",
       "JH Kallis            10\n",
       "A Mishra              9\n",
       "KA Pollard            9\n",
       "SE Marsh              9\n",
       "SR Tendulkar          8\n",
       "RV Uthappa            7\n",
       "AT Rayudu             7\n",
       "RA Jadeja             7\n",
       "AC Gilchrist          7\n",
       "AD Russell            6\n",
       "A Nehra               6\n",
       "Harbhajan Singh       6\n",
       "BJ Hodge              6\n",
       "M Vijay               6\n",
       "UT Yadav              6\n",
       "SP Narine             6\n",
       "JP Faulkner           5\n",
       "DPMD Jayawardene      5\n",
       "SC Ganguly            5\n",
       "GJ Maxwell            5\n",
       "KC Sangakkara         5\n",
       "SL Malinga            5\n",
       "BB McCullum           5\n",
       "Yuvraj Singh          5\n",
       "B Kumar               5\n",
       "DW Steyn              5\n",
       "Sandeep Sharma        5\n",
       "AJ Finch              5\n",
       "SK Warne              4\n",
       "AR Patel              4\n",
       "JD Unadkat            4\n",
       "JP Duminy             4\n",
       "SPD Smith             4\n",
       "KD Karthik            4\n",
       "MK Pandey             4\n",
       "KH Pandya             4\n",
       "NM Coulter-Nile       4\n",
       "PA Patel              4\n",
       "ML Hayden             4\n",
       "KP Pietersen          3\n",
       "R Vinay Kumar         3\n",
       "DA Miller             3\n",
       "LRPL Taylor           3\n",
       "PP Chawla             3\n",
       "A Symonds             3\n",
       "A Kumble              3\n",
       "M Vohra               3\n",
       "MK Tiwary             3\n",
       "L Balaji              3\n",
       "Mandeep Singh         3\n",
       "KK Nair               3\n",
       "CJ Anderson           3\n",
       "LMP Simmons           3\n",
       "BA Stokes             3\n",
       "WP Saha               3\n",
       "SV Samson             3\n",
       "AJ Tye                2\n",
       "RR Pant               2\n",
       "IK Pathan             2\n",
       "MG Johnson            2\n",
       "CA Lynn               2\n",
       "SS Iyer               2\n",
       "MM Sharma             2\n",
       "S Dhawan              2\n",
       "KM Jadhav             2\n",
       "N Rana                2\n",
       "AB Dinda              2\n",
       "Harmeet Singh         2\n",
       "CH Morris             2\n",
       "DE Bollinger          2\n",
       "B Lee                 2\n",
       "MJ McClenaghan        2\n",
       "R Sharma              2\n",
       "MP Stoinis            2\n",
       "GH Vihari             2\n",
       "HM Amla               2\n",
       "M Morkel              2\n",
       "Rashid Khan           2\n",
       "M Muralitharan        2\n",
       "SM Pollock            2\n",
       "Sohail Tanvir         2\n",
       "F du Plessis          2\n",
       "ST Jayasuriya         2\n",
       "MM Patel              2\n",
       "DJ Hussey             2\n",
       "MV Boucher            2\n",
       "PC Valthaty           2\n",
       "HH Pandya             2\n",
       "MC Henriques          2\n",
       "GC Smith              2\n",
       "DJ Bravo              2\n",
       "M Ntini               2\n",
       "P Negi                2\n",
       "I Sharma              2\n",
       "Azhar Mahmood         2\n",
       "JA Morkel             2\n",
       "P Kumar               2\n",
       "PV Tambe              2\n",
       "Iqbal Abdulla         2\n",
       "R Dravid              2\n",
       "SK Trivedi            2\n",
       "Shakib Al Hasan       2\n",
       "BW Hilfenhaus         2\n",
       "CL White              1\n",
       "KMDN Kulasekara       1\n",
       "S Nadeem              1\n",
       "MN Samuels            1\n",
       "AD Mascarenhas        1\n",
       "JD Ryder              1\n",
       "GJ Bailey             1\n",
       "A Chandila            1\n",
       "MS Bisla              1\n",
       "A Zampa               1\n",
       "CR Brathwaite         1\n",
       "SA Yadav              1\n",
       "Mustafizur Rahman     1\n",
       "Q de Kock             1\n",
       "Z Khan                1\n",
       "EJG Morgan            1\n",
       "TA Boult              1\n",
       "VR Aaron              1\n",
       "MA Starc              1\n",
       "MA Agarwal            1\n",
       "JEC Franklin          1\n",
       "DJ Hooda              1\n",
       "YS Chahal             1\n",
       "LJ Wright             1\n",
       "AP Tare               1\n",
       "KK Cooper             1\n",
       "DJG Sammy             1\n",
       "MS Gony               1\n",
       "RE Levi               1\n",
       "S Badrinath           1\n",
       "S Aravind             1\n",
       "SM Katich             1\n",
       "PP Ojha               1\n",
       "RS Bopara             1\n",
       "RP Singh              1\n",
       "DL Vettori            1\n",
       "Umar Gul              1\n",
       "SP Goswami            1\n",
       "Shoaib Akhtar         1\n",
       "CRD Fernando          1\n",
       "S Sreesanth           1\n",
       "SA Asnodkar           1\n",
       "GD McGrath            1\n",
       "JDP Oram              1\n",
       "BA Bhatt              1\n",
       "MF Maharoof           1\n",
       "KV Sharma             1\n",
       "Washington Sundar     1\n",
       "HV Patel              1\n",
       "Mohammed Siraj        1\n",
       "RA Tripathi           1\n",
       "Mohammed Shami        1\n",
       "LH Ferguson           1\n",
       "JC Buttler            1\n",
       "KS Williamson         1\n",
       "JJ Bumrah             1\n",
       "TM Dilshan            1\n",
       "HH Gibbs              1\n",
       "DP Nannes             1\n",
       "SB Jakati             1\n",
       "MR Marsh              1\n",
       "P Parameswaran        1\n",
       "J Botha               1\n",
       "S Sohal               1\n",
       "MD Mishra             1\n",
       "SB Wagh               1\n",
       "S Anirudha            1\n",
       "M Kartik              1\n",
       "R McLaren             1\n",
       "R Ashwin              1\n",
       "RJ Harris             1\n",
       "TL Suman              1\n",
       "MJ Lumb               1\n",
       "PD Collingwood        1\n",
       "NV Ojha               1\n",
       "AC Voges              1\n",
       "J Theron              1\n",
       "AA Jhunjhunwala       1\n",
       "WPUJC Vaas            1\n",
       "AD Mathews            1\n",
       "LR Shukla             1\n",
       "R Bhatia              1\n",
       "A Singh               1\n",
       "BCJ Cutting           1\n",
       "Name: player_of_match, dtype: int64"
      ]
     },
     "execution_count": 21,
     "metadata": {},
     "output_type": "execute_result"
    }
   ],
   "source": [
    "data['player_of_match'].value_counts()"
   ]
  },
  {
   "cell_type": "code",
   "execution_count": null,
   "id": "5ad0209f",
   "metadata": {},
   "outputs": [],
   "source": []
  },
  {
   "cell_type": "markdown",
   "id": "7d90d59b",
   "metadata": {},
   "source": [
    "# In which city were the number of matches played?"
   ]
  },
  {
   "cell_type": "code",
   "execution_count": 22,
   "id": "612f760f",
   "metadata": {},
   "outputs": [
    {
     "data": {
      "text/plain": [
       "Mumbai            85\n",
       "Bangalore         66\n",
       "Kolkata           61\n",
       "Delhi             60\n",
       "Hyderabad         49\n",
       "Chennai           48\n",
       "Chandigarh        46\n",
       "Jaipur            33\n",
       "Pune              32\n",
       "Durban            15\n",
       "Ahmedabad         12\n",
       "Centurion         12\n",
       "Visakhapatnam     11\n",
       "Rajkot            10\n",
       "Dharamsala         9\n",
       "Johannesburg       8\n",
       "Cape Town          7\n",
       "Abu Dhabi          7\n",
       "Ranchi             7\n",
       "Port Elizabeth     7\n",
       "Cuttack            7\n",
       "Raipur             6\n",
       "Sharjah            6\n",
       "Kochi              5\n",
       "Indore             5\n",
       "Kanpur             4\n",
       "Nagpur             3\n",
       "Kimberley          3\n",
       "East London        3\n",
       "Bloemfontein       2\n",
       "Name: city, dtype: int64"
      ]
     },
     "execution_count": 22,
     "metadata": {},
     "output_type": "execute_result"
    }
   ],
   "source": [
    "data['city'].value_counts()"
   ]
  },
  {
   "cell_type": "code",
   "execution_count": null,
   "id": "5fed5c66",
   "metadata": {},
   "outputs": [],
   "source": []
  },
  {
   "cell_type": "code",
   "execution_count": null,
   "id": "932ba8b4",
   "metadata": {},
   "outputs": [],
   "source": []
  },
  {
   "cell_type": "markdown",
   "id": "3699899b",
   "metadata": {},
   "source": [
    "# Finding Out the number of toss wins w.r.t each team"
   ]
  },
  {
   "cell_type": "code",
   "execution_count": 23,
   "id": "247f830b",
   "metadata": {},
   "outputs": [
    {
     "data": {
      "text/plain": [
       "Mumbai Indians                 85\n",
       "Kolkata Knight Riders          78\n",
       "Delhi Daredevils               72\n",
       "Royal Challengers Bangalore    70\n",
       "Kings XI Punjab                68\n",
       "Chennai Super Kings            66\n",
       "Rajasthan Royals               63\n",
       "Deccan Chargers                43\n",
       "Sunrisers Hyderabad            35\n",
       "Pune Warriors                  20\n",
       "Gujarat Lions                  15\n",
       "Kochi Tuskers Kerala            8\n",
       "Rising Pune Supergiants         7\n",
       "Rising Pune Supergiant          6\n",
       "Name: toss_winner, dtype: int64"
      ]
     },
     "execution_count": 23,
     "metadata": {},
     "output_type": "execute_result"
    }
   ],
   "source": [
    "data['toss_winner'].value_counts()"
   ]
  },
  {
   "cell_type": "code",
   "execution_count": null,
   "id": "67003bf7",
   "metadata": {},
   "outputs": [],
   "source": []
  },
  {
   "cell_type": "markdown",
   "id": "fe7007bd",
   "metadata": {},
   "source": [
    "# Making a histogram for frequency of wins w.r.t win_by_runs"
   ]
  },
  {
   "cell_type": "code",
   "execution_count": 24,
   "id": "2a870875",
   "metadata": {},
   "outputs": [
    {
     "data": {
      "text/html": [
       "<div>\n",
       "<style scoped>\n",
       "    .dataframe tbody tr th:only-of-type {\n",
       "        vertical-align: middle;\n",
       "    }\n",
       "\n",
       "    .dataframe tbody tr th {\n",
       "        vertical-align: top;\n",
       "    }\n",
       "\n",
       "    .dataframe thead th {\n",
       "        text-align: right;\n",
       "    }\n",
       "</style>\n",
       "<table border=\"1\" class=\"dataframe\">\n",
       "  <thead>\n",
       "    <tr style=\"text-align: right;\">\n",
       "      <th></th>\n",
       "      <th>id</th>\n",
       "      <th>season</th>\n",
       "      <th>city</th>\n",
       "      <th>date</th>\n",
       "      <th>team1</th>\n",
       "      <th>team2</th>\n",
       "      <th>toss_winner</th>\n",
       "      <th>toss_decision</th>\n",
       "      <th>result</th>\n",
       "      <th>dl_applied</th>\n",
       "      <th>winner</th>\n",
       "      <th>win_by_runs</th>\n",
       "      <th>win_by_wickets</th>\n",
       "      <th>dismissal_kind</th>\n",
       "      <th>player_of_match</th>\n",
       "      <th>umpire1</th>\n",
       "      <th>umpire2</th>\n",
       "      <th>umpire3</th>\n",
       "      <th>venue</th>\n",
       "    </tr>\n",
       "  </thead>\n",
       "  <tbody>\n",
       "    <tr>\n",
       "      <th>0</th>\n",
       "      <td>1.0</td>\n",
       "      <td>2017.0</td>\n",
       "      <td>Hyderabad</td>\n",
       "      <td>05-04-2017</td>\n",
       "      <td>Sunrisers Hyderabad</td>\n",
       "      <td>Royal Challengers Bangalore</td>\n",
       "      <td>Royal Challengers Bangalore</td>\n",
       "      <td>field</td>\n",
       "      <td>normal</td>\n",
       "      <td>0.0</td>\n",
       "      <td>Sunrisers Hyderabad</td>\n",
       "      <td>35.0</td>\n",
       "      <td>0.0</td>\n",
       "      <td>NaN</td>\n",
       "      <td>Yuvraj Singh</td>\n",
       "      <td>AY Dandekar</td>\n",
       "      <td>NJ Llong</td>\n",
       "      <td>NaN</td>\n",
       "      <td>Rajiv Gandhi International Stadium, Uppal</td>\n",
       "    </tr>\n",
       "    <tr>\n",
       "      <th>4</th>\n",
       "      <td>5.0</td>\n",
       "      <td>2017.0</td>\n",
       "      <td>Bangalore</td>\n",
       "      <td>08-04-2017</td>\n",
       "      <td>Royal Challengers Bangalore</td>\n",
       "      <td>Delhi Daredevils</td>\n",
       "      <td>Royal Challengers Bangalore</td>\n",
       "      <td>bat</td>\n",
       "      <td>normal</td>\n",
       "      <td>0.0</td>\n",
       "      <td>Royal Challengers Bangalore</td>\n",
       "      <td>15.0</td>\n",
       "      <td>0.0</td>\n",
       "      <td>NaN</td>\n",
       "      <td>KM Jadhav</td>\n",
       "      <td>NaN</td>\n",
       "      <td>NaN</td>\n",
       "      <td>NaN</td>\n",
       "      <td>M Chinnaswamy Stadium</td>\n",
       "    </tr>\n",
       "    <tr>\n",
       "      <th>8</th>\n",
       "      <td>9.0</td>\n",
       "      <td>2017.0</td>\n",
       "      <td>Pune</td>\n",
       "      <td>11-04-2017</td>\n",
       "      <td>Delhi Daredevils</td>\n",
       "      <td>Rising Pune Supergiant</td>\n",
       "      <td>Rising Pune Supergiant</td>\n",
       "      <td>field</td>\n",
       "      <td>normal</td>\n",
       "      <td>0.0</td>\n",
       "      <td>Delhi Daredevils</td>\n",
       "      <td>97.0</td>\n",
       "      <td>0.0</td>\n",
       "      <td>NaN</td>\n",
       "      <td>SV Samson</td>\n",
       "      <td>AY Dandekar</td>\n",
       "      <td>S Ravi</td>\n",
       "      <td>NaN</td>\n",
       "      <td>Maharashtra Cricket Association Stadium</td>\n",
       "    </tr>\n",
       "    <tr>\n",
       "      <th>13</th>\n",
       "      <td>14.0</td>\n",
       "      <td>2017.0</td>\n",
       "      <td>Kolkata</td>\n",
       "      <td>15-04-2017</td>\n",
       "      <td>Kolkata Knight Riders</td>\n",
       "      <td>Sunrisers Hyderabad</td>\n",
       "      <td>Sunrisers Hyderabad</td>\n",
       "      <td>field</td>\n",
       "      <td>normal</td>\n",
       "      <td>0.0</td>\n",
       "      <td>Kolkata Knight Riders</td>\n",
       "      <td>17.0</td>\n",
       "      <td>0.0</td>\n",
       "      <td>NaN</td>\n",
       "      <td>RV Uthappa</td>\n",
       "      <td>AY Dandekar</td>\n",
       "      <td>NJ Llong</td>\n",
       "      <td>NaN</td>\n",
       "      <td>Eden Gardens</td>\n",
       "    </tr>\n",
       "    <tr>\n",
       "      <th>14</th>\n",
       "      <td>15.0</td>\n",
       "      <td>2017.0</td>\n",
       "      <td>Delhi</td>\n",
       "      <td>15-04-2017</td>\n",
       "      <td>Delhi Daredevils</td>\n",
       "      <td>Kings XI Punjab</td>\n",
       "      <td>Delhi Daredevils</td>\n",
       "      <td>bat</td>\n",
       "      <td>normal</td>\n",
       "      <td>0.0</td>\n",
       "      <td>Delhi Daredevils</td>\n",
       "      <td>51.0</td>\n",
       "      <td>0.0</td>\n",
       "      <td>NaN</td>\n",
       "      <td>CJ Anderson</td>\n",
       "      <td>YC Barde</td>\n",
       "      <td>Nitin Menon</td>\n",
       "      <td>NaN</td>\n",
       "      <td>Feroz Shah Kotla</td>\n",
       "    </tr>\n",
       "  </tbody>\n",
       "</table>\n",
       "</div>"
      ],
      "text/plain": [
       "      id  season       city        date                        team1  \\\n",
       "0    1.0  2017.0  Hyderabad  05-04-2017          Sunrisers Hyderabad   \n",
       "4    5.0  2017.0  Bangalore  08-04-2017  Royal Challengers Bangalore   \n",
       "8    9.0  2017.0       Pune  11-04-2017             Delhi Daredevils   \n",
       "13  14.0  2017.0    Kolkata  15-04-2017        Kolkata Knight Riders   \n",
       "14  15.0  2017.0      Delhi  15-04-2017             Delhi Daredevils   \n",
       "\n",
       "                          team2                  toss_winner toss_decision  \\\n",
       "0   Royal Challengers Bangalore  Royal Challengers Bangalore         field   \n",
       "4              Delhi Daredevils  Royal Challengers Bangalore           bat   \n",
       "8        Rising Pune Supergiant       Rising Pune Supergiant         field   \n",
       "13          Sunrisers Hyderabad          Sunrisers Hyderabad         field   \n",
       "14              Kings XI Punjab             Delhi Daredevils           bat   \n",
       "\n",
       "    result  dl_applied                       winner  win_by_runs  \\\n",
       "0   normal         0.0          Sunrisers Hyderabad         35.0   \n",
       "4   normal         0.0  Royal Challengers Bangalore         15.0   \n",
       "8   normal         0.0             Delhi Daredevils         97.0   \n",
       "13  normal         0.0        Kolkata Knight Riders         17.0   \n",
       "14  normal         0.0             Delhi Daredevils         51.0   \n",
       "\n",
       "    win_by_wickets dismissal_kind player_of_match      umpire1      umpire2  \\\n",
       "0              0.0            NaN    Yuvraj Singh  AY Dandekar     NJ Llong   \n",
       "4              0.0            NaN       KM Jadhav          NaN          NaN   \n",
       "8              0.0            NaN       SV Samson  AY Dandekar       S Ravi   \n",
       "13             0.0            NaN      RV Uthappa  AY Dandekar     NJ Llong   \n",
       "14             0.0            NaN     CJ Anderson     YC Barde  Nitin Menon   \n",
       "\n",
       "    umpire3                                      venue  \n",
       "0       NaN  Rajiv Gandhi International Stadium, Uppal  \n",
       "4       NaN                      M Chinnaswamy Stadium  \n",
       "8       NaN    Maharashtra Cricket Association Stadium  \n",
       "13      NaN                               Eden Gardens  \n",
       "14      NaN                           Feroz Shah Kotla  "
      ]
     },
     "execution_count": 24,
     "metadata": {},
     "output_type": "execute_result"
    }
   ],
   "source": [
    "batting_first = data[data['win_by_runs']!=0]\n",
    "batting_first.head()"
   ]
  },
  {
   "cell_type": "code",
   "execution_count": 25,
   "id": "c623c2d8",
   "metadata": {},
   "outputs": [
    {
     "data": {
      "image/png": "[encoded data removed]",
      "text/plain": [
       "<Figure size 500x700 with 1 Axes>"
      ]
     },
     "metadata": {},
     "output_type": "display_data"
    }
   ],
   "source": [
    "plt.figure(figsize=(5,7))\n",
    "plt.hist(batting_first['win_by_runs'])\n",
    "plt.title(\"Distribution of Runs\")\n",
    "plt.xlabel(\"Runs\")\n",
    "plt.show()"
   ]
  },
  {
   "cell_type": "code",
   "execution_count": null,
   "id": "a017a579",
   "metadata": {},
   "outputs": [],
   "source": []
  },
  {
   "cell_type": "markdown",
   "id": "8e4264d8",
   "metadata": {},
   "source": [
    "# Making a pie chart for distribution of most wins after batting first"
   ]
  },
  {
   "cell_type": "code",
   "execution_count": 26,
   "id": "a7e0b474",
   "metadata": {},
   "outputs": [
    {
     "data": {
      "text/plain": [
       "([<matplotlib.patches.Wedge at 0x1dcbad2c9d0>,\n",
       "  <matplotlib.patches.Wedge at 0x1dcbad2c8e0>,\n",
       "  <matplotlib.patches.Wedge at 0x1dcbad2d6c0>,\n",
       "  <matplotlib.patches.Wedge at 0x1dcbad2dd50>,\n",
       "  <matplotlib.patches.Wedge at 0x1dcbad2e3e0>,\n",
       "  <matplotlib.patches.Wedge at 0x1dcbad2ea70>,\n",
       "  <matplotlib.patches.Wedge at 0x1dcbad2f100>,\n",
       "  <matplotlib.patches.Wedge at 0x1dcbad2f790>,\n",
       "  <matplotlib.patches.Wedge at 0x1dcbad2fe20>,\n",
       "  <matplotlib.patches.Wedge at 0x1dcbad684f0>,\n",
       "  <matplotlib.patches.Wedge at 0x1dcbad2c9a0>,\n",
       "  <matplotlib.patches.Wedge at 0x1dcbad691e0>,\n",
       "  <matplotlib.patches.Wedge at 0x1dcbad69870>,\n",
       "  <matplotlib.patches.Wedge at 0x1dcbad69f00>],\n",
       " [Text(0.957605310965506, 0.5412874175617393, 'Mumbai Indians'),\n",
       "  Text(0.04213301835446219, 1.0991927987229277, 'Chennai Super Kings'),\n",
       "  Text(-0.8008756983083161, 0.7540544515213522, 'Kings XI Punjab'),\n",
       "  Text(-1.097628381345508, 0.07219374256014238, 'Kolkata Knight Riders'),\n",
       "  Text(-0.9065956286683169, -0.6229641772040343, 'Royal Challengers Bangalore'),\n",
       "  Text(-0.41677656301747923, -1.0179868842570308, 'Sunrisers Hyderabad'),\n",
       "  Text(0.12615182720313114, -1.0927422918937986, 'Rajasthan Royals'),\n",
       "  Text(0.6179929685755237, -0.9099915883079426, 'Delhi Daredevils'),\n",
       "  Text(0.9393169274289485, -0.5724366426474111, 'Deccan Chargers'),\n",
       "  Text(1.0557501620130736, -0.30885529849651105, 'Pune Warriors'),\n",
       "  Text(1.0852053437632376, -0.17980367590156035, 'Rising Pune Supergiant'),\n",
       "  Text(1.0957849727232933, -0.0962044362480812, 'Kochi Tuskers Kerala'),\n",
       "  Text(1.0989457396231712, -0.0481483267007435, 'Rising Pune Supergiants'),\n",
       "  Text(1.0999340994774671, -0.012040631490644988, 'Gujarat Lions')],\n",
       " [Text(0.5223301696175486, 0.2952476823064032, '16.4%'),\n",
       "  Text(0.02298164637516119, 0.5995597083943242, '16.0%'),\n",
       "  Text(-0.4368412899863542, 0.4113024281025557, '11.1%'),\n",
       "  Text(-0.5987063898248225, 0.03937840503280493, '10.8%'),\n",
       "  Text(-0.4945067065463546, -0.3397986421112914, '10.5%'),\n",
       "  Text(-0.2273326707368068, -0.5552655732311077, '8.0%'),\n",
       "  Text(0.06881008756534425, -0.59604125012389, '8.0%'),\n",
       "  Text(0.3370870737684674, -0.4963590481679686, '7.3%'),\n",
       "  Text(0.5123546876885172, -0.3122381687167696, '6.3%'),\n",
       "  Text(0.5758637247344037, -0.16846652645264237, '2.1%'),\n",
       "  Text(0.5919301875072205, -0.098074732309942, '1.7%'),\n",
       "  Text(0.5977008942127054, -0.05247514704440792, '0.7%'),\n",
       "  Text(0.599424948885366, -0.026262723654950998, '0.7%'),\n",
       "  Text(0.5999640542604365, -0.006567617176715447, '0.3%')])"
      ]
     },
     "execution_count": 26,
     "metadata": {},
     "output_type": "execute_result"
    },
    {
     "data": {
      "image/png": "[encoded data removed]",
      "text/plain": [
       "<Figure size 700x700 with 1 Axes>"
      ]
     },
     "metadata": {},
     "output_type": "display_data"
    }
   ],
   "source": [
    "plt.figure(figsize=(7,7))\n",
    "plt.pie(list(batting_first['winner'].value_counts()),labels=list(batting_first['winner'].value_counts().keys())\n",
    "        ,autopct='%0.1f%%')"
   ]
  },
  {
   "cell_type": "code",
   "execution_count": null,
   "id": "b9808788",
   "metadata": {},
   "outputs": [],
   "source": []
  },
  {
   "cell_type": "code",
   "execution_count": null,
   "id": "1bd515e4",
   "metadata": {},
   "outputs": [],
   "source": []
  },
  {
   "cell_type": "code",
   "execution_count": null,
   "id": "9569abf8",
   "metadata": {},
   "outputs": [],
   "source": []
  },
  {
   "cell_type": "markdown",
   "id": "376bd0ca",
   "metadata": {},
   "source": [
    "# Extracting those records where a team has won after batting second"
   ]
  },
  {
   "cell_type": "code",
   "execution_count": null,
   "id": "080b092f",
   "metadata": {},
   "outputs": [],
   "source": []
  },
  {
   "cell_type": "code",
   "execution_count": 27,
   "id": "15808908",
   "metadata": {},
   "outputs": [],
   "source": [
    "batting_second = data[data['win_by_wickets']!=0]"
   ]
  },
  {
   "cell_type": "code",
   "execution_count": 28,
   "id": "bbcb69db",
   "metadata": {},
   "outputs": [
    {
     "data": {
      "text/html": [
       "<div>\n",
       "<style scoped>\n",
       "    .dataframe tbody tr th:only-of-type {\n",
       "        vertical-align: middle;\n",
       "    }\n",
       "\n",
       "    .dataframe tbody tr th {\n",
       "        vertical-align: top;\n",
       "    }\n",
       "\n",
       "    .dataframe thead th {\n",
       "        text-align: right;\n",
       "    }\n",
       "</style>\n",
       "<table border=\"1\" class=\"dataframe\">\n",
       "  <thead>\n",
       "    <tr style=\"text-align: right;\">\n",
       "      <th></th>\n",
       "      <th>id</th>\n",
       "      <th>season</th>\n",
       "      <th>city</th>\n",
       "      <th>date</th>\n",
       "      <th>team1</th>\n",
       "      <th>team2</th>\n",
       "      <th>toss_winner</th>\n",
       "      <th>toss_decision</th>\n",
       "      <th>result</th>\n",
       "      <th>dl_applied</th>\n",
       "      <th>winner</th>\n",
       "      <th>win_by_runs</th>\n",
       "      <th>win_by_wickets</th>\n",
       "      <th>dismissal_kind</th>\n",
       "      <th>player_of_match</th>\n",
       "      <th>umpire1</th>\n",
       "      <th>umpire2</th>\n",
       "      <th>umpire3</th>\n",
       "      <th>venue</th>\n",
       "    </tr>\n",
       "  </thead>\n",
       "  <tbody>\n",
       "    <tr>\n",
       "      <th>1</th>\n",
       "      <td>2.0</td>\n",
       "      <td>2017.0</td>\n",
       "      <td>Pune</td>\n",
       "      <td>06-04-2017</td>\n",
       "      <td>Mumbai Indians</td>\n",
       "      <td>Rising Pune Supergiant</td>\n",
       "      <td>Rising Pune Supergiant</td>\n",
       "      <td>field</td>\n",
       "      <td>normal</td>\n",
       "      <td>0.0</td>\n",
       "      <td>Rising Pune Supergiant</td>\n",
       "      <td>0.0</td>\n",
       "      <td>7.0</td>\n",
       "      <td>NaN</td>\n",
       "      <td>SPD Smith</td>\n",
       "      <td>A Nand Kishore</td>\n",
       "      <td>S Ravi</td>\n",
       "      <td>NaN</td>\n",
       "      <td>Maharashtra Cricket Association Stadium</td>\n",
       "    </tr>\n",
       "    <tr>\n",
       "      <th>2</th>\n",
       "      <td>3.0</td>\n",
       "      <td>2017.0</td>\n",
       "      <td>Rajkot</td>\n",
       "      <td>07-04-2017</td>\n",
       "      <td>Gujarat Lions</td>\n",
       "      <td>Kolkata Knight Riders</td>\n",
       "      <td>Kolkata Knight Riders</td>\n",
       "      <td>field</td>\n",
       "      <td>normal</td>\n",
       "      <td>0.0</td>\n",
       "      <td>Kolkata Knight Riders</td>\n",
       "      <td>0.0</td>\n",
       "      <td>10.0</td>\n",
       "      <td>NaN</td>\n",
       "      <td>CA Lynn</td>\n",
       "      <td>Nitin Menon</td>\n",
       "      <td>CK Nandan</td>\n",
       "      <td>NaN</td>\n",
       "      <td>Saurashtra Cricket Association Stadium</td>\n",
       "    </tr>\n",
       "    <tr>\n",
       "      <th>3</th>\n",
       "      <td>4.0</td>\n",
       "      <td>2017.0</td>\n",
       "      <td>Indore</td>\n",
       "      <td>08-04-2017</td>\n",
       "      <td>Rising Pune Supergiant</td>\n",
       "      <td>Kings XI Punjab</td>\n",
       "      <td>Kings XI Punjab</td>\n",
       "      <td>field</td>\n",
       "      <td>normal</td>\n",
       "      <td>0.0</td>\n",
       "      <td>Kings XI Punjab</td>\n",
       "      <td>0.0</td>\n",
       "      <td>6.0</td>\n",
       "      <td>NaN</td>\n",
       "      <td>GJ Maxwell</td>\n",
       "      <td>AK Chaudhary</td>\n",
       "      <td>C Shamshuddin</td>\n",
       "      <td>NaN</td>\n",
       "      <td>Holkar Cricket Stadium</td>\n",
       "    </tr>\n",
       "    <tr>\n",
       "      <th>5</th>\n",
       "      <td>6.0</td>\n",
       "      <td>2017.0</td>\n",
       "      <td>Hyderabad</td>\n",
       "      <td>09-04-2017</td>\n",
       "      <td>Gujarat Lions</td>\n",
       "      <td>Sunrisers Hyderabad</td>\n",
       "      <td>Sunrisers Hyderabad</td>\n",
       "      <td>field</td>\n",
       "      <td>normal</td>\n",
       "      <td>0.0</td>\n",
       "      <td>Sunrisers Hyderabad</td>\n",
       "      <td>0.0</td>\n",
       "      <td>9.0</td>\n",
       "      <td>NaN</td>\n",
       "      <td>Rashid Khan</td>\n",
       "      <td>A Deshmukh</td>\n",
       "      <td>NJ Llong</td>\n",
       "      <td>NaN</td>\n",
       "      <td>Rajiv Gandhi International Stadium, Uppal</td>\n",
       "    </tr>\n",
       "    <tr>\n",
       "      <th>6</th>\n",
       "      <td>7.0</td>\n",
       "      <td>2017.0</td>\n",
       "      <td>Mumbai</td>\n",
       "      <td>09-04-2017</td>\n",
       "      <td>Kolkata Knight Riders</td>\n",
       "      <td>Mumbai Indians</td>\n",
       "      <td>Mumbai Indians</td>\n",
       "      <td>field</td>\n",
       "      <td>normal</td>\n",
       "      <td>0.0</td>\n",
       "      <td>Mumbai Indians</td>\n",
       "      <td>0.0</td>\n",
       "      <td>4.0</td>\n",
       "      <td>NaN</td>\n",
       "      <td>N Rana</td>\n",
       "      <td>Nitin Menon</td>\n",
       "      <td>CK Nandan</td>\n",
       "      <td>NaN</td>\n",
       "      <td>Wankhede Stadium</td>\n",
       "    </tr>\n",
       "  </tbody>\n",
       "</table>\n",
       "</div>"
      ],
      "text/plain": [
       "    id  season       city        date                   team1  \\\n",
       "1  2.0  2017.0       Pune  06-04-2017          Mumbai Indians   \n",
       "2  3.0  2017.0     Rajkot  07-04-2017           Gujarat Lions   \n",
       "3  4.0  2017.0     Indore  08-04-2017  Rising Pune Supergiant   \n",
       "5  6.0  2017.0  Hyderabad  09-04-2017           Gujarat Lions   \n",
       "6  7.0  2017.0     Mumbai  09-04-2017   Kolkata Knight Riders   \n",
       "\n",
       "                    team2             toss_winner toss_decision  result  \\\n",
       "1  Rising Pune Supergiant  Rising Pune Supergiant         field  normal   \n",
       "2   Kolkata Knight Riders   Kolkata Knight Riders         field  normal   \n",
       "3         Kings XI Punjab         Kings XI Punjab         field  normal   \n",
       "5     Sunrisers Hyderabad     Sunrisers Hyderabad         field  normal   \n",
       "6          Mumbai Indians          Mumbai Indians         field  normal   \n",
       "\n",
       "   dl_applied                  winner  win_by_runs  win_by_wickets  \\\n",
       "1         0.0  Rising Pune Supergiant          0.0             7.0   \n",
       "2         0.0   Kolkata Knight Riders          0.0            10.0   \n",
       "3         0.0         Kings XI Punjab          0.0             6.0   \n",
       "5         0.0     Sunrisers Hyderabad          0.0             9.0   \n",
       "6         0.0          Mumbai Indians          0.0             4.0   \n",
       "\n",
       "  dismissal_kind player_of_match         umpire1        umpire2  umpire3  \\\n",
       "1            NaN       SPD Smith  A Nand Kishore         S Ravi      NaN   \n",
       "2            NaN         CA Lynn     Nitin Menon      CK Nandan      NaN   \n",
       "3            NaN      GJ Maxwell    AK Chaudhary  C Shamshuddin      NaN   \n",
       "5            NaN     Rashid Khan      A Deshmukh       NJ Llong      NaN   \n",
       "6            NaN          N Rana     Nitin Menon      CK Nandan      NaN   \n",
       "\n",
       "                                       venue  \n",
       "1    Maharashtra Cricket Association Stadium  \n",
       "2     Saurashtra Cricket Association Stadium  \n",
       "3                     Holkar Cricket Stadium  \n",
       "5  Rajiv Gandhi International Stadium, Uppal  \n",
       "6                           Wankhede Stadium  "
      ]
     },
     "execution_count": 28,
     "metadata": {},
     "output_type": "execute_result"
    }
   ],
   "source": [
    "batting_second.head()"
   ]
  },
  {
   "cell_type": "code",
   "execution_count": null,
   "id": "02c9a8a9",
   "metadata": {},
   "outputs": [],
   "source": []
  },
  {
   "cell_type": "markdown",
   "id": "6b9c5666",
   "metadata": {},
   "source": [
    "# Making a histogram for frequency of wins w.r.t number of wickets"
   ]
  },
  {
   "cell_type": "code",
   "execution_count": 29,
   "id": "86975ea0",
   "metadata": {},
   "outputs": [
    {
     "data": {
      "image/png": "[encoded data removed]",
      "text/plain": [
       "<Figure size 700x700 with 1 Axes>"
      ]
     },
     "metadata": {},
     "output_type": "display_data"
    }
   ],
   "source": [
    "plt.figure(figsize=(7,7))\n",
    "plt.hist(batting_second['win_by_wickets'])\n",
    "plt.show()"
   ]
  },
  {
   "cell_type": "code",
   "execution_count": null,
   "id": "41d0b891",
   "metadata": {},
   "outputs": [],
   "source": []
  },
  {
   "cell_type": "markdown",
   "id": "12c7c3c1",
   "metadata": {},
   "source": [
    "# Making a pie chart for distribution of most wins after batting second"
   ]
  },
  {
   "cell_type": "code",
   "execution_count": 30,
   "id": "a7b54758",
   "metadata": {},
   "outputs": [
    {
     "data": {
      "text/plain": [
       "([<matplotlib.patches.Wedge at 0x1dcb8ecd300>,\n",
       "  <matplotlib.patches.Wedge at 0x1dcb8ecd210>,\n",
       "  <matplotlib.patches.Wedge at 0x1dcb8ecdff0>,\n",
       "  <matplotlib.patches.Wedge at 0x1dcb8ece680>,\n",
       "  <matplotlib.patches.Wedge at 0x1dcb8eced10>,\n",
       "  <matplotlib.patches.Wedge at 0x1dcb8ecf340>,\n",
       "  <matplotlib.patches.Wedge at 0x1dcb8e7d6c0>,\n",
       "  <matplotlib.patches.Wedge at 0x1dcb8ecfc70>,\n",
       "  <matplotlib.patches.Wedge at 0x1dcb8f08340>,\n",
       "  <matplotlib.patches.Wedge at 0x1dcb8f089d0>,\n",
       "  <matplotlib.patches.Wedge at 0x1dcb8ecd2d0>,\n",
       "  <matplotlib.patches.Wedge at 0x1dcb8f096c0>,\n",
       "  <matplotlib.patches.Wedge at 0x1dcb8f09d50>,\n",
       "  <matplotlib.patches.Wedge at 0x1dcb8f0a3e0>],\n",
       " [Text(1.0015554020507564, 0.4548480808170434, 'Kolkata Knight Riders'),\n",
       "  Text(0.3360383109098569, 1.0474150340723827, 'Mumbai Indians'),\n",
       "  Text(-0.51431738085202, 0.9723567409924809, 'Royal Challengers Bangalore'),\n",
       "  Text(-1.0458467244569054, 0.34088800058488716, 'Delhi Daredevils'),\n",
       "  Text(-1.0057275027924868, -0.4455470683629158, 'Rajasthan Royals'),\n",
       "  Text(-0.4962078657374895, -0.9817218312639512, 'Kings XI Punjab'),\n",
       "  Text(0.1876657953602728, -1.0838734009337974, 'Chennai Super Kings'),\n",
       "  Text(0.6605030717142825, -0.8796224714364667, 'Sunrisers Hyderabad'),\n",
       "  Text(0.8765526181292194, -0.6645716723204587, 'Gujarat Lions'),\n",
       "  Text(0.997297314510797, -0.46410997238752894, 'Deccan Chargers'),\n",
       "  Text(1.057761724514249, -0.3018942433247815, 'Pune Warriors'),\n",
       "  Text(1.082992222888861, -0.19268587172453386, 'Rising Pune Supergiant'),\n",
       "  Text(1.095279896309179, -0.10179365766566495, 'Kochi Tuskers Kerala'),\n",
       "  Text(1.0995749153943584, -0.030577858582471897, 'Rising Pune Supergiants')],\n",
       " [Text(0.5463029465731398, 0.24809895317293273, '13.6%'),\n",
       "  Text(0.1832936241326492, 0.5713172913122087, '13.0%'),\n",
       "  Text(-0.2805367531920108, 0.5303764041777168, '12.4%'),\n",
       "  Text(-0.5704618497037666, 0.18593890940993843, '12.1%'),\n",
       "  Text(-0.5485786378868108, -0.2430256736524995, '11.2%'),\n",
       "  Text(-0.2706588358568124, -0.5354846352348824, '10.6%'),\n",
       "  Text(0.10236316110560334, -0.5912036732366167, '9.7%'),\n",
       "  Text(0.3602744027532449, -0.4797940753289818, '5.3%'),\n",
       "  Text(0.47811960988866503, -0.36249363944752283, '3.5%'),\n",
       "  Text(0.5439803533695255, -0.2531508940295612, '3.2%'),\n",
       "  Text(0.5769609406441357, -0.1646695872680626, '1.8%'),\n",
       "  Text(0.5907230306666514, -0.10510138457701845, '1.5%'),\n",
       "  Text(0.5974253979868248, -0.05552381327218087, '1.2%'),\n",
       "  Text(0.5997681356696499, -0.016678831954075577, '0.9%')])"
      ]
     },
     "execution_count": 30,
     "metadata": {},
     "output_type": "execute_result"
    },
    {
     "data": {
      "image/png": "[encoded data removed]",
      "text/plain": [
       "<Figure size 700x700 with 1 Axes>"
      ]
     },
     "metadata": {},
     "output_type": "display_data"
    }
   ],
   "source": [
    "plt.figure(figsize=(7,7))\n",
    "plt.pie(list(batting_second['winner'].value_counts()),labels=list(batting_second['winner'].value_counts().keys())\n",
    "        ,autopct='%0.1f%%')"
   ]
  },
  {
   "cell_type": "markdown",
   "id": "303f4f92",
   "metadata": {},
   "source": [
    "# Now let us see most common dismissal types in IPL.\n"
   ]
  },
  {
   "cell_type": "code",
   "execution_count": 31,
   "id": "931d3164",
   "metadata": {},
   "outputs": [
    {
     "data": {
      "image/png": "[encoded data removed]",
      "text/plain": [
       "<Figure size 1200x600 with 1 Axes>"
      ]
     },
     "metadata": {},
     "output_type": "display_data"
    }
   ],
   "source": [
    "plt.figure(figsize=(12,6))\n",
    "sns.countplot(x='dismissal_kind', data=data)\n",
    "plt.xticks(rotation='vertical')\n",
    "plt.show()"
   ]
  },
  {
   "cell_type": "markdown",
   "id": "6bf753c7",
   "metadata": {},
   "source": [
    "Caught is the most common dismissal type in IPL followed by Bowled. There are very few instances of hit wicket as well. 'Obstructing the field' is one of the dismissal type as well in IPL.!"
   ]
  },
  {
   "cell_type": "markdown",
   "id": "e7b2454d",
   "metadata": {},
   "source": [
    "# Conclusion"
   ]
  },
  {
   "cell_type": "markdown",
   "id": "828b4558",
   "metadata": {},
   "source": [
    "In conclusion, the exploratory data analysis (EDA) conducted on the IPL dataset reveals valuable insights and patterns, providing a solid foundation for further analysis and informed decision-making in the realm of Indian Premier League cricket."
   ]
  }
 ],
 "metadata": {
  "kernelspec": {
   "display_name": "Python 3 (ipykernel)",
   "language": "python",
   "name": "python3"
  },
  "language_info": {
   "codemirror_mode": {
    "name": "ipython",
    "version": 3
   },
   "file_extension": ".py",
   "mimetype": "text/x-python",
   "name": "python",
   "nbconvert_exporter": "python",
   "pygments_lexer": "ipython3",
   "version": "3.10.9"
  }
 },
 "nbformat": 4,
 "nbformat_minor": 5
}
